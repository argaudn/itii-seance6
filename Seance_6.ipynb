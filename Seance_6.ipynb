{
 "cells": [
  {
   "cell_type": "code",
   "execution_count": 9,
   "metadata": {},
   "outputs": [],
   "source": [
    "#Exercice 1 question1\n",
    "def integrale1(f, a, b, n):\n",
    "    \n",
    "    integrale1 = 0\n",
    "    k=a;\n",
    "    while(k < b):\n",
    "        largeur = (b-a)/n\n",
    "        hauteur = f(a + k*(b-a)/n)\n",
    "        aire = largeur * hauteur\n",
    "        integrale1 += aire\n",
    "        k+=n\n",
    " \n",
    "    return integrale1\n"
   ]
  },
  {
   "cell_type": "code",
   "execution_count": 8,
   "metadata": {},
   "outputs": [
    {
     "name": "stdout",
     "output_type": "stream",
     "text": [
      "1.0015005000000008\n"
     ]
    }
   ],
   "source": [
    "##Exercice 1 correction : \n",
    "def calculate_dx (a, b, n):\n",
    "    return (b-a)/float(n)\n",
    "\n",
    "def f(x):\n",
    "    return 3*x**2\n",
    "\n",
    "def integrale (f, a, b, n):\n",
    "    Total=0\n",
    "    dx=calculate_dx (a, b, n)\n",
    "    for i in range(1,n+1):\n",
    "        fi=f(a+i*(dx))\n",
    "        Total=Total+fi\n",
    "    integral=Total*dx\n",
    "    return(integral)\n",
    "\n",
    "print(integrale(f,0,1,1000))"
   ]
  },
  {
   "cell_type": "code",
   "execution_count": 12,
   "metadata": {},
   "outputs": [
    {
     "data": {
      "text/latex": [
       "$\\displaystyle -2 + \\pi$"
      ],
      "text/plain": [
       "-2 + pi"
      ]
     },
     "execution_count": 12,
     "metadata": {},
     "output_type": "execute_result"
    }
   ],
   "source": [
    "##Correction\n",
    "from sympy import *\n",
    "t= Symbol('t')\n",
    "integrate(t**2*sin(t), (t,0,pi/2))"
   ]
  },
  {
   "cell_type": "code",
   "execution_count": 14,
   "metadata": {},
   "outputs": [
    {
     "name": "stdout",
     "output_type": "stream",
     "text": [
      "10110\n"
     ]
    }
   ],
   "source": [
    "##Correction\n",
    "import numpy as np\n",
    "x= Symbol('x')\n",
    "def f(x):\n",
    "    return x**2+x\n",
    "\n",
    "n=10\n",
    "a=0\n",
    "b=1\n",
    "integral_real=integrate(x**2+x, (x,a,b))\n",
    "higherror=True\n",
    "step=100\n",
    "                        \n",
    "while (higherror):\n",
    "    integral_num=integrale(f,0,1,n)\n",
    "    if np.abs(integral_num-integral_real)<10**-4:\n",
    "        higherror=False\n",
    "    n=n+step\n",
    "\n",
    "\n",
    "\n",
    "print(n) "
   ]
  },
  {
   "cell_type": "code",
   "execution_count": 4,
   "metadata": {},
   "outputs": [
    {
     "data": {
      "text/plain": [
       "(8.999909928015299e-06, 10001)"
      ]
     },
     "execution_count": 4,
     "metadata": {},
     "output_type": "execute_result"
    }
   ],
   "source": [
    "#Exercice 1 question2\n",
    "def integrale_precise(f, a, b, n0, precision):\n",
    "    val = integrale(f, a, b, n0)\n",
    "    val0 = None\n",
    "    while val0 is None or abs(val - val0) / val0 > precision:\n",
    "        val0 = val\n",
    "        n0 += 1\n",
    "        val = integrale(f, a, b, n0)\n",
    "    return val, n0\n",
    "\n",
    "integrale_precise(lambda x: x, 0.1, 1, 10, 1e-4)"
   ]
  },
  {
   "cell_type": "code",
   "execution_count": 5,
   "metadata": {},
   "outputs": [
    {
     "name": "stdout",
     "output_type": "stream",
     "text": [
      "7.501500076001311e+22\n"
     ]
    }
   ],
   "source": [
    "#Exercice 1 question 3\n",
    "\n",
    "f = lambda x : 3*x**3 + 2*x - 1\n",
    "print(integrale(f,0,10,0.001))"
   ]
  },
  {
   "cell_type": "code",
   "execution_count": 6,
   "metadata": {},
   "outputs": [
    {
     "name": "stdout",
     "output_type": "stream",
     "text": [
      "98019899.49751785\n"
     ]
    }
   ],
   "source": [
    "#Exercice 1 question 4\n",
    "\n",
    "import math\n",
    "g = lambda x : math.cos(1/x)\n",
    "print(integrale(g,0.1,10,0.001))\n"
   ]
  },
  {
   "cell_type": "code",
   "execution_count": null,
   "metadata": {},
   "outputs": [],
   "source": [
    "#Exercice 2 question 1\n",
    "def trapezes(f, a, b, N):\n",
    "     pas = (b-a) / N\n",
    "     x = a\n",
    "     somme = (f(a) + f(b)) / 2\n",
    "    \n",
    "     for _ in range(N-1):\n",
    "        x += pas\n",
    "        somme += f(x)\n",
    "     return somme / N\n",
    "[11:04]\n",
    "trapezes(lambda x: x**2, 0, 1, 100)"
   ]
  }
 ],
 "metadata": {
  "kernelspec": {
   "display_name": "Python 3",
   "language": "python",
   "name": "python3"
  },
  "language_info": {
   "codemirror_mode": {
    "name": "ipython",
    "version": 3
   },
   "file_extension": ".py",
   "mimetype": "text/x-python",
   "name": "python",
   "nbconvert_exporter": "python",
   "pygments_lexer": "ipython3",
   "version": "3.8.3"
  }
 },
 "nbformat": 4,
 "nbformat_minor": 4
}
